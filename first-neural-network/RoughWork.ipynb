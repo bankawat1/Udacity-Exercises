{
 "cells": [
  {
   "cell_type": "code",
   "execution_count": 17,
   "metadata": {},
   "outputs": [
    {
     "name": "stdout",
     "output_type": "stream",
     "text": [
      "The autoreload extension is already loaded. To reload it, use:\n",
      "  %reload_ext autoreload\n"
     ]
    }
   ],
   "source": [
    "%matplotlib inline\n",
    "%load_ext autoreload\n",
    "%autoreload 2\n",
    "%config InlineBackend.figure_format = 'retina'\n",
    "\n",
    "import numpy as np\n",
    "import pandas as pd\n",
    "import matplotlib.pyplot as plt"
   ]
  },
  {
   "cell_type": "code",
   "execution_count": null,
   "metadata": {},
   "outputs": [],
   "source": [
    "data_path = 'Bike-Sharing-Dataset/hour.csv'\n",
    "\n",
    "rides = pd.read_csv(data_path)\n",
    "\n",
    "rides.head(25)"
   ]
  },
  {
   "cell_type": "code",
   "execution_count": null,
   "metadata": {},
   "outputs": [],
   "source": [
    "data_path = 'Bike-Sharing-Dataset/hour.csv'\n",
    "\n",
    "rides = pd.read_csv(data_path)\n",
    "\n",
    "rides.head(25)\n",
    "\n",
    "#rides.loc[:,['casual','registered']].describe()\n",
    "\n",
    "#rides.hist(column=['casual','registered','cnt'],bins=100)\n",
    "\n",
    "#plt.show()\n",
    "\n",
    "a = rides.groupby(by='hr')\n",
    "\n",
    "b= a['casual','registered','cnt'].mean()\n",
    "\n",
    "#b.reset_index().plot(x='hr',y='cnt',kind='line')\n",
    "\n",
    "md= a['casual','registered','cnt'].median()\n",
    "\n",
    "md.reset_index().plot(x='hr',y=['casual','registered','cnt'],kind='line')\n",
    "\n",
    "b.reset_index().plot(x='hr',y=['casual','registered','cnt'],kind='line')\n",
    "#b.hist(bins=24)\n",
    "\n",
    "plt.show()\n",
    "\n",
    "\n"
   ]
  },
  {
   "cell_type": "code",
   "execution_count": null,
   "metadata": {},
   "outputs": [],
   "source": [
    "dummy_fields = ['season', 'weathersit', 'mnth', 'hr', 'weekday']\n",
    "for each in dummy_fields:\n",
    "    dummies = pd.get_dummies(rides[each], prefix=each, drop_first=False)\n",
    "    rides = pd.concat([rides, dummies], axis=1)\n",
    "\n",
    "fields_to_drop = ['instant', 'dteday', 'season', 'weathersit', \n",
    "                  'weekday', 'atemp', 'mnth', 'workingday', 'hr']\n",
    "data = rides.drop(fields_to_drop, axis=1)\n",
    "data.head()"
   ]
  },
  {
   "cell_type": "code",
   "execution_count": null,
   "metadata": {},
   "outputs": [],
   "source": [
    "(data > 1).any(axis=0)"
   ]
  },
  {
   "cell_type": "code",
   "execution_count": null,
   "metadata": {},
   "outputs": [],
   "source": [
    "data[['casual', 'registered', 'cnt', 'temp', 'hum', 'windspeed']]"
   ]
  },
  {
   "cell_type": "code",
   "execution_count": null,
   "metadata": {},
   "outputs": [],
   "source": [
    "data.info()quant_features = ['casual', 'registered', 'cnt', 'temp', 'hum', 'windspeed']\n",
    "# Store scalings in a dictionary so we can convert back later\n",
    "scaled_features = {}\n",
    "for each in quant_features:\n",
    "    mean, std = data[each].mean(), data[each].std()\n",
    "    scaled_features[each] = [mean, std]\n",
    "    data.loc[:, each] = (data[each] - mean)/std"
   ]
  },
  {
   "cell_type": "code",
   "execution_count": null,
   "metadata": {},
   "outputs": [],
   "source": [
    "quant_features = ['casual', 'registered', 'cnt', 'temp', 'hum', 'windspeed']\n",
    "# Store scalings in a dictionary so we can convert back later\n",
    "scaled_features = {}\n",
    "for each in quant_features:\n",
    "    mean, std = data[each].mean(), data[each].std()\n",
    "    scaled_features[each] = [mean, std]\n",
    "    data.loc[:, each] = (data[each] - mean)/std"
   ]
  },
  {
   "cell_type": "code",
   "execution_count": null,
   "metadata": {},
   "outputs": [],
   "source": [
    "data.head(25)"
   ]
  },
  {
   "cell_type": "code",
   "execution_count": null,
   "metadata": {},
   "outputs": [],
   "source": [
    "# Save data for approximately the last 21 days \n",
    "test_data = data[-21*24:]\n",
    "\n",
    "# Now remove the test data from the data set \n",
    "data = data[:-21*24]\n",
    "\n",
    "# Separate the data into features and targets\n",
    "target_fields = ['cnt', 'casual', 'registered']\n",
    "features, targets = data.drop(target_fields, axis=1), data[target_fields]\n",
    "test_features, test_targets = test_data.drop(target_fields, axis=1), test_data[target_fields]"
   ]
  },
  {
   "cell_type": "code",
   "execution_count": null,
   "metadata": {},
   "outputs": [],
   "source": [
    "display(features,targets)"
   ]
  },
  {
   "cell_type": "code",
   "execution_count": null,
   "metadata": {},
   "outputs": [],
   "source": [
    "x=np.array([[0,0,0],[1,1,1]])\n",
    "p = 1/(1+np.exp(-x))\n",
    "p.T"
   ]
  },
  {
   "cell_type": "code",
   "execution_count": null,
   "metadata": {},
   "outputs": [],
   "source": [
    "g = (6**0.5)/2\n",
    "2*g*np.random.rand()-g"
   ]
  },
  {
   "cell_type": "code",
   "execution_count": null,
   "metadata": {},
   "outputs": [],
   "source": [
    "g = (6**0.5)/2\n",
    "2*g*np.random.rand()-g\n",
    "\n",
    "g"
   ]
  },
  {
   "cell_type": "code",
   "execution_count": null,
   "metadata": {},
   "outputs": [],
   "source": [
    "np.random.normal(0.0, 3**-0.5, \n",
    "                                       (3, 4)).T"
   ]
  },
  {
   "cell_type": "code",
   "execution_count": null,
   "metadata": {},
   "outputs": [],
   "source": [
    "np.abs([[1,2,3],[-1,2,-3]])"
   ]
  },
  {
   "cell_type": "code",
   "execution_count": null,
   "metadata": {},
   "outputs": [],
   "source": [
    "a=np.array([1,2])\n",
    "b =np.array([2,2,2])\n",
    "#a.dot(b)\n",
    "a[None,:]\n",
    "#b[:,None]"
   ]
  },
  {
   "cell_type": "code",
   "execution_count": 9,
   "metadata": {},
   "outputs": [
    {
     "data": {
      "text/plain": [
       "array([[-0.07185315,  0.0226162 ,  1.15557388],\n",
       "       [-0.91541177, -0.36438658,  0.72569508]])"
      ]
     },
     "execution_count": 9,
     "metadata": {},
     "output_type": "execute_result"
    }
   ],
   "source": [
    "np.random.rand()\n",
    "\n",
    "epsilon = 6**0.5/((4)**0.5)\n",
    "2*epsilon*np.random.rand(2,3)- epsilon\n"
   ]
  },
  {
   "cell_type": "code",
   "execution_count": 11,
   "metadata": {},
   "outputs": [
    {
     "data": {
      "text/plain": [
       "array([[-1.07595803, -1.73358948],\n",
       "       [-0.84353979,  0.46129177],\n",
       "       [-0.08398896,  2.38000125]])"
      ]
     },
     "execution_count": 11,
     "metadata": {},
     "output_type": "execute_result"
    }
   ],
   "source": [
    "np.random.normal(0.0, 2, \n",
    "                                       (3, 2))"
   ]
  },
  {
   "cell_type": "code",
   "execution_count": 13,
   "metadata": {},
   "outputs": [
    {
     "data": {
      "text/plain": [
       "array([1.e-01, 1.e-02, 1.e-03, 1.e-04, 1.e-05, 1.e-06])"
      ]
     },
     "execution_count": 13,
     "metadata": {},
     "output_type": "execute_result"
    }
   ],
   "source": [
    "10.0 ** -np.arange(1, 7)"
   ]
  },
  {
   "cell_type": "code",
   "execution_count": 81,
   "metadata": {},
   "outputs": [
    {
     "data": {
      "text/plain": [
       "array([0.00055656, 0.00057069, 0.00058517, 0.00060002, 0.00061525,\n",
       "       0.00063086, 0.00064687, 0.00066329, 0.00068013, 0.00069739,\n",
       "       0.00071509, 0.00073323, 0.00075184, 0.00077092, 0.00079049,\n",
       "       0.00081055, 0.00083112, 0.00085222, 0.00087385, 0.00089602,\n",
       "       0.00091876, 0.00094208, 0.00096599, 0.00099051, 0.00101565,\n",
       "       0.00104142, 0.00106785, 0.00109495, 0.00112274, 0.00115124,\n",
       "       0.00118046, 0.00121042, 0.00124113, 0.00127263, 0.00130493,\n",
       "       0.00133805, 0.00137201, 0.00140683, 0.00144253, 0.00147915,\n",
       "       0.00151669, 0.00155518, 0.00159465, 0.00163512, 0.00167662,\n",
       "       0.00171917, 0.0017628 , 0.00180754, 0.00185341, 0.00190045])"
      ]
     },
     "execution_count": 81,
     "metadata": {},
     "output_type": "execute_result"
    }
   ],
   "source": [
    "np.exp(np.linspace(-10,0,400))[100:150]"
   ]
  },
  {
   "cell_type": "code",
   "execution_count": 76,
   "metadata": {},
   "outputs": [
    {
     "data": {
      "text/plain": [
       "[<matplotlib.lines.Line2D at 0x211d00fca30>]"
      ]
     },
     "execution_count": 76,
     "metadata": {},
     "output_type": "execute_result"
    },
    {
     "data": {
      "image/png": "[encoded data removed]",
      "text/plain": [
       "<Figure size 432x288 with 1 Axes>"
      ]
     },
     "metadata": {
      "image/png": {
       "height": 248,
       "width": 372
      },
      "needs_background": "light"
     },
     "output_type": "display_data"
    }
   ],
   "source": [
    "plt.plot(range(0,400),np.exp(np.linspace(-10,0,400)))\n",
    "#plt.xscale('log')\n",
    "#plt.yscale('log')"
   ]
  },
  {
   "cell_type": "code",
   "execution_count": null,
   "metadata": {},
   "outputs": [],
   "source": [
    ".00001 .0001 .001 .01 .1 1"
   ]
  },
  {
   "cell_type": "code",
   "execution_count": 73,
   "metadata": {},
   "outputs": [
    {
     "name": "stdout",
     "output_type": "stream",
     "text": [
      "0.0000453999\n",
      "0.0000502254\n",
      "0.0000555637\n",
      "0.0000614695\n",
      "0.0000680029\n",
      "0.0000752308\n",
      "0.0000832269\n",
      "0.0000920730\n",
      "0.0001018592\n",
      "0.0001126856\n",
      "0.0001246627\n",
      "0.0001379128\n",
      "0.0001525713\n",
      "0.0001687877\n",
      "0.0001867278\n",
      "0.0002065747\n",
      "0.0002285311\n",
      "0.0002528211\n",
      "0.0002796929\n",
      "0.0003094209\n",
      "0.0003423086\n",
      "0.0003786918\n",
      "0.0004189421\n",
      "0.0004634706\n",
      "0.0005127318\n",
      "0.0005672290\n",
      "0.0006275185\n",
      "0.0006942161\n",
      "0.0007680028\n",
      "0.0008496321\n",
      "0.0009399377\n",
      "0.0010398416\n",
      "0.0011503641\n",
      "0.0012726338\n",
      "0.0014078993\n",
      "0.0015575418\n",
      "0.0017230895\n",
      "0.0019062329\n",
      "0.0021088423\n",
      "0.0023329865\n",
      "0.0025809546\n",
      "0.0028552786\n",
      "0.0031587599\n",
      "0.0034944976\n",
      "0.0038659201\n",
      "0.0042768203\n",
      "0.0047313942\n",
      "0.0052342838\n",
      "0.0057906244\n",
      "0.0064060972\n",
      "0.0070869873\n",
      "0.0078402477\n",
      "0.0086735705\n",
      "0.0095954654\n",
      "0.0106153465\n",
      "0.0117436285\n",
      "0.0129918331\n",
      "0.0143727066\n",
      "0.0159003503\n",
      "0.0175903638\n",
      "0.0194600051\n",
      "0.0215283666\n",
      "0.0238165696\n",
      "0.0263479808\n",
      "0.0291484502\n",
      "0.0322465753\n",
      "0.0356739933\n",
      "0.0394657042\n",
      "0.0436604277\n",
      "0.0483009992\n",
      "0.0534348070\n",
      "0.0591142759\n",
      "0.0653974032\n",
      "0.0723483504\n",
      "0.0800380986\n",
      "0.0885451733\n",
      "0.0979564464\n",
      "0.1083680232\n",
      "0.1198862238\n",
      "0.1326286687\n",
      "0.1467254803\n",
      "0.1623206112\n",
      "0.1795733145\n",
      "0.1986597700\n",
      "0.2197748831\n",
      "0.2431342755\n",
      "0.2689764867\n",
      "0.2975654101\n",
      "0.3291929878\n",
      "0.3641821916\n",
      "0.4028903215\n",
      "0.4457126540\n",
      "0.4930864787\n",
      "0.5454955638\n",
      "0.6034750961\n",
      "0.6676171463\n",
      "0.7385767149\n",
      "0.8170784211\n",
      "0.9039239023\n",
      "1.0000000000\n"
     ]
    }
   ],
   "source": [
    "for i in np.exp(np.linspace(-10,0,100)):\n",
    "    print('{0:.10f}'.format(i))"
   ]
  },
  {
   "cell_type": "code",
   "execution_count": 54,
   "metadata": {},
   "outputs": [
    {
     "data": {
      "text/plain": [
       "[<matplotlib.lines.Line2D at 0x211cfedcb20>]"
      ]
     },
     "execution_count": 54,
     "metadata": {},
     "output_type": "execute_result"
    },
    {
     "data": {
      "image/png": "[encoded data removed]",
      "text/plain": [
       "<Figure size 432x288 with 1 Axes>"
      ]
     },
     "metadata": {
      "image/png": {
       "height": 248,
       "width": 372
      },
      "needs_background": "light"
     },
     "output_type": "display_data"
    }
   ],
   "source": [
    "plt.plot(range(0,400),np.linspace(0,1.0,400))\n",
    "#plt.xscale('log')\n",
    "#plt.yscale('log')\n"
   ]
  }
 ],
 "metadata": {
  "kernelspec": {
   "display_name": "Python 3",
   "language": "python",
   "name": "python3"
  },
  "language_info": {
   "codemirror_mode": {
    "name": "ipython",
    "version": 3
   },
   "file_extension": ".py",
   "mimetype": "text/x-python",
   "name": "python",
   "nbconvert_exporter": "python",
   "pygments_lexer": "ipython3",
   "version": "3.8.2"
  }
 },
 "nbformat": 4,
 "nbformat_minor": 4
}
